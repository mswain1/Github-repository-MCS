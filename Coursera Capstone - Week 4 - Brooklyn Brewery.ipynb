{
    "cells": [
        {
            "cell_type": "markdown",
            "metadata": {
                "collapsed": true
            },
            "source": "<h2>Opening a Brewery in Brooklyn, New York</h2>"
        },
        {
            "cell_type": "markdown",
            "metadata": {
                "collapsed": true
            },
            "source": "<h2>Reqirement 1</h2>\nClearly define a problem or an idea of your choice, where you would need to leverage the Foursquare location data to solve or execute. Remember that data science problems always target an audience and are meant to help a group of stakeholders solve a problem, so make sure that you explicitly describe your audience and why they would care about your problem.\n\nThis submission will eventually become your Introduction/Business Problem section in your final report. So I recommend that you push the report (having your Introduction/Business Problem section only for now) to your Github repository and submit a link to it."
        },
        {
            "attachments": {},
            "cell_type": "markdown",
            "metadata": {
                "collapsed": true
            },
            "source": "<h4>Overview</h4>\n\nNew York City is the most populous city in the United States. With an estimated 2019 population of 8,336,817 distributed over about 302.6 square miles (784 km2), New York is also the most densely populated major city in the United States. New York City is composed of five boroughs: Brooklyn, Queens, Manhattan, the Bronx, and Staten Island. The city has diverse demographics and a vibrant economy. A resident or visitor to the city can experience a vast array of cultures, including food, museums, and many other attractions.\nMy goal is to determine the best location to open a microbrewery and tap house in Brooklyn. Foursquare data will be used to determine location to similar venues that will attract foot traffic to the brewery."
        },
        {
            "attachments": {},
            "cell_type": "markdown",
            "metadata": {
                "collapsed": true
            },
            "source": "<h2>Requirement 2</h2>\nDescribe the data that you will be using to solve the problem or execute your idea. Remember that you will need to use the Foursquare location data to solve the problem or execute your idea. You can absolutely use other datasets in combination with the Foursquare location data. So make sure that you provide adequate explanation and discussion, with examples, of the data that you will be using, even if it is only Foursquare location data.\n\nThis submission will eventually become your Data section in your final report. So I recommend that you push the report (having your Data section) to your Github repository and submit a link to it."
        },
        {
            "attachments": {},
            "cell_type": "markdown",
            "metadata": {
                "collapsed": true
            },
            "source": "<h4>Additional Business Overview</h4>\n\nBusiness Overview\nMicrobrewery with tap house in Brooklyn, NY. In-house brewery that brews and serves it\u2019s own craft beer. \nSmall selection of food options provided. Located near other restaurants to give visitors other food options.\nWalking distance to tourist attractions (approximately 1 kilometer)\nDemand for the business. No other breweries within 1 kilometer of selected location.\n\nTarget Audience: New York city tourists and Brooklyn residents who want an authentic craft beer brewed and served on site.\n\nData methodology:\nFoursquare API\nSearch for locations of similar venues\nSearch for nearby tourist attractions"
        },
        {
            "cell_type": "code",
            "execution_count": null,
            "metadata": {},
            "outputs": [],
            "source": ""
        }
    ],
    "metadata": {
        "kernelspec": {
            "display_name": "Python 3.6",
            "language": "python",
            "name": "python3"
        },
        "language_info": {
            "codemirror_mode": {
                "name": "ipython",
                "version": 3
            },
            "file_extension": ".py",
            "mimetype": "text/x-python",
            "name": "python",
            "nbconvert_exporter": "python",
            "pygments_lexer": "ipython3",
            "version": "3.6.9"
        }
    },
    "nbformat": 4,
    "nbformat_minor": 1
}